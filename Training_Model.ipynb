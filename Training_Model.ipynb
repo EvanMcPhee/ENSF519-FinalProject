{
  "nbformat": 4,
  "nbformat_minor": 0,
  "metadata": {
    "kernelspec": {
      "name": "python3",
      "display_name": "Python 3"
    },
    "language_info": {
      "codemirror_mode": {
        "name": "ipython",
        "version": 3
      },
      "file_extension": ".py",
      "mimetype": "text/x-python",
      "name": "python",
      "nbconvert_exporter": "python",
      "pygments_lexer": "ipython3",
      "version": "3.7.3"
    },
    "colab": {
      "name": "Training_Model.ipynb",
      "provenance": [],
      "collapsed_sections": []
    },
    "accelerator": "GPU"
  },
  "cells": [
    {
      "cell_type": "code",
      "metadata": {
        "id": "bBfaryOgQ_mu",
        "colab_type": "code",
        "colab": {}
      },
      "source": [
        "%tensorflow_version 1.x\n",
        "\n",
        "import numpy as np\n",
        "import pandas as pd\n",
        "import nltk\n",
        "from sklearn.feature_extraction.text import ENGLISH_STOP_WORDS\n",
        "import re, string\n",
        "from sklearn.model_selection import train_test_split\n",
        "\n",
        "from keras.models import Sequential\n",
        "from keras.layers import Dense\n",
        "from keras.layers import LSTM\n",
        "from keras.preprocessing import sequence\n",
        "from keras.optimizers import RMSprop\n",
        "from keras.preprocessing.text import Tokenizer\n",
        "\n",
        "from keras.layers import Input, LSTM, Embedding, Dense\n",
        "from keras.models import Model\n",
        "from keras.callbacks import EarlyStopping"
      ],
      "execution_count": 0,
      "outputs": []
    },
    {
      "cell_type": "code",
      "metadata": {
        "id": "DzxBHOcwQ_my",
        "colab_type": "code",
        "colab": {}
      },
      "source": [
        "#Create dataframe from csv data\n",
        "df = pd.read_csv('export_dataframe.csv', error_bad_lines=False, na_values=['nan'])\n",
        "text = df['Synopsis']\n",
        "target = df['Summary']"
      ],
      "execution_count": 0,
      "outputs": []
    },
    {
      "cell_type": "code",
      "metadata": {
        "id": "L87CjOBbQ_m0",
        "colab_type": "code",
        "outputId": "80d067c5-93df-4651-ce21-93de4e5b3ca1",
        "colab": {
          "base_uri": "https://localhost:8080/",
          "height": 419
        }
      },
      "source": [
        "#Create the dataframe we are working with and drop some nan rows\n",
        "df = pd.DataFrame({'Synopsis':text, 'Summary':target}, dtype='str')\n",
        "\n",
        "df=df[df.Summary != 'nan']\n",
        "df"
      ],
      "execution_count": 12,
      "outputs": [
        {
          "output_type": "execute_result",
          "data": {
            "text/html": [
              "<div>\n",
              "<style scoped>\n",
              "    .dataframe tbody tr th:only-of-type {\n",
              "        vertical-align: middle;\n",
              "    }\n",
              "\n",
              "    .dataframe tbody tr th {\n",
              "        vertical-align: top;\n",
              "    }\n",
              "\n",
              "    .dataframe thead th {\n",
              "        text-align: right;\n",
              "    }\n",
              "</style>\n",
              "<table border=\"1\" class=\"dataframe\">\n",
              "  <thead>\n",
              "    <tr style=\"text-align: right;\">\n",
              "      <th></th>\n",
              "      <th>Synopsis</th>\n",
              "      <th>Summary</th>\n",
              "    </tr>\n",
              "  </thead>\n",
              "  <tbody>\n",
              "    <tr>\n",
              "      <th>0</th>\n",
              "      <td>The unforgettable novel of a childhood in a sl...</td>\n",
              "      <td>harper lee consid book simpl love story</td>\n",
              "    </tr>\n",
              "    <tr>\n",
              "      <th>1</th>\n",
              "      <td>The year 1984 has come and gone, but George Or...</td>\n",
              "      <td>deni novel hold imagin generations power admon...</td>\n",
              "    </tr>\n",
              "    <tr>\n",
              "      <th>2</th>\n",
              "      <td>Alternate Cover Edition ISBN: 0743273567 (ISBN...</td>\n",
              "      <td>stori fabul wealthi jay gatsbi new love beauti...</td>\n",
              "    </tr>\n",
              "    <tr>\n",
              "      <th>3</th>\n",
              "      <td>Harry Potter's life is miserable. His parents ...</td>\n",
              "      <td>harri potter life miserable</td>\n",
              "    </tr>\n",
              "    <tr>\n",
              "      <th>4</th>\n",
              "      <td>George Orwell's timeless and timely allegorica...</td>\n",
              "      <td>anim farm published stalinist russia seen target</td>\n",
              "    </tr>\n",
              "    <tr>\n",
              "      <th>...</th>\n",
              "      <td>...</td>\n",
              "      <td>...</td>\n",
              "    </tr>\n",
              "    <tr>\n",
              "      <th>9996</th>\n",
              "      <td>Ballu  is a gangster who is arrested by Inspec...</td>\n",
              "      <td>ram show compass ballu tri provid inform lead ...</td>\n",
              "    </tr>\n",
              "    <tr>\n",
              "      <th>9997</th>\n",
              "      <td>The central figure of the film is represented ...</td>\n",
              "      <td>scienc use brain art use brain heart</td>\n",
              "    </tr>\n",
              "    <tr>\n",
              "      <th>9998</th>\n",
              "      <td>Set in 2003, Huck Cheever  is a young and tale...</td>\n",
              "      <td>billi older sister suzann warn huck hustl 10 c...</td>\n",
              "    </tr>\n",
              "    <tr>\n",
              "      <th>9999</th>\n",
              "      <td>The Namesake depicts the struggles of Ashoke a...</td>\n",
              "      <td>short after gogol vacat maxin family ashok dies</td>\n",
              "    </tr>\n",
              "    <tr>\n",
              "      <th>10000</th>\n",
              "      <td>Bobby Taylor ([[Robert Townsend  is a middle c...</td>\n",
              "      <td>practic line bathroom younger brother stevi wa...</td>\n",
              "    </tr>\n",
              "  </tbody>\n",
              "</table>\n",
              "<p>9606 rows × 2 columns</p>\n",
              "</div>"
            ],
            "text/plain": [
              "                                                Synopsis                                            Summary\n",
              "0      The unforgettable novel of a childhood in a sl...            harper lee consid book simpl love story\n",
              "1      The year 1984 has come and gone, but George Or...  deni novel hold imagin generations power admon...\n",
              "2      Alternate Cover Edition ISBN: 0743273567 (ISBN...  stori fabul wealthi jay gatsbi new love beauti...\n",
              "3      Harry Potter's life is miserable. His parents ...                        harri potter life miserable\n",
              "4      George Orwell's timeless and timely allegorica...   anim farm published stalinist russia seen target\n",
              "...                                                  ...                                                ...\n",
              "9996   Ballu  is a gangster who is arrested by Inspec...  ram show compass ballu tri provid inform lead ...\n",
              "9997   The central figure of the film is represented ...               scienc use brain art use brain heart\n",
              "9998   Set in 2003, Huck Cheever  is a young and tale...  billi older sister suzann warn huck hustl 10 c...\n",
              "9999   The Namesake depicts the struggles of Ashoke a...    short after gogol vacat maxin family ashok dies\n",
              "10000  Bobby Taylor ([[Robert Townsend  is a middle c...  practic line bathroom younger brother stevi wa...\n",
              "\n",
              "[9606 rows x 2 columns]"
            ]
          },
          "metadata": {
            "tags": []
          },
          "execution_count": 12
        }
      ]
    },
    {
      "cell_type": "code",
      "metadata": {
        "id": "6TwQkO5WQ_m3",
        "colab_type": "code",
        "colab": {}
      },
      "source": [
        "#Method for cleaning the synopsis text data\n",
        "def clean_text(text):\n",
        "    text = str(text)\n",
        "    text = text.lower()\n",
        "    text = re.sub('\\s+', ' ', text)\n",
        "    text = text.translate(str.maketrans('', '', string.punctuation))\n",
        "    text = ' '.join([w for w in text.split() if w not in ENGLISH_STOP_WORDS])\n",
        "    return text\n",
        "\n",
        "df['Synopsis'] = df['Synopsis'].apply(clean_text)"
      ],
      "execution_count": 0,
      "outputs": []
    },
    {
      "cell_type": "code",
      "metadata": {
        "id": "3SaEWtFxQ_m5",
        "colab_type": "code",
        "outputId": "118c65cb-4002-47b7-929b-8132a6ad4334",
        "colab": {
          "base_uri": "https://localhost:8080/",
          "height": 221
        }
      },
      "source": [
        "#method for cleaning summary text data\n",
        "def clean_title(title):\n",
        "    title = str(title)\n",
        "    title = title.lower()\n",
        "    title = re.sub('\\s+', ' ', title)\n",
        "    title = title.translate(str.maketrans('', '', string.punctuation))\n",
        "    title = ' '.join([w for w in title.split() if w not in ENGLISH_STOP_WORDS])\n",
        "    return title\n",
        "\n",
        "df['CleanTitle'] = df['Summary'].apply(clean_title)\n",
        "\n",
        "#Here we add start and end to the targets so we know when the string stops and padding begins for later\n",
        "df['CleanTitle'] = df['CleanTitle'].apply(lambda x : '_START_ '+ x + ' _END_')\n",
        "print(df['CleanTitle'])"
      ],
      "execution_count": 14,
      "outputs": [
        {
          "output_type": "stream",
          "text": [
            "0        _START_ harper lee consid book simpl love stor...\n",
            "1        _START_ deni novel hold imagin generations pow...\n",
            "2        _START_ stori fabul wealthi jay gatsbi new lov...\n",
            "3                _START_ harri potter life miserable _END_\n",
            "4        _START_ anim farm published stalinist russia s...\n",
            "                               ...                        \n",
            "9996     _START_ ram compass ballu tri provid inform le...\n",
            "9997     _START_ scienc use brain art use brain heart _...\n",
            "9998     _START_ billi older sister suzann warn huck hu...\n",
            "9999     _START_ short gogol vacat maxin family ashok d...\n",
            "10000    _START_ practic line bathroom younger brother ...\n",
            "Name: CleanTitle, Length: 9606, dtype: object\n"
          ],
          "name": "stdout"
        }
      ]
    },
    {
      "cell_type": "code",
      "metadata": {
        "id": "z7M-ks6RQ_m7",
        "colab_type": "code",
        "colab": {}
      },
      "source": [
        "#Just train test split, test size of \n",
        "from sklearn.model_selection import train_test_split\n",
        "X_train, X_test, y_train, y_test = train_test_split(df['Synopsis'], df['CleanTitle'], test_size=0.2, random_state=0)"
      ],
      "execution_count": 0,
      "outputs": []
    },
    {
      "cell_type": "code",
      "metadata": {
        "id": "_oqSckHGQ_m9",
        "colab_type": "code",
        "colab": {}
      },
      "source": [
        "x_tokenizer = Tokenizer()\n",
        "x_tokenizer.fit_on_texts(df['Synopsis'])\n",
        "\n",
        "#Some globals required to maintain size for strings in and out of the model\n",
        "max_text_length = 125\n",
        "max_target_length = 20\n",
        "\n",
        "#convert each sentence into an array of integer representations for the words\n",
        "x_tr    =   x_tokenizer.texts_to_sequences(df['Synopsis']) \n",
        "x_val   =   x_tokenizer.texts_to_sequences(X_test)\n",
        "\n",
        "#we are padding 0 here to the sequence so they are all the same size sequence\n",
        "x_tr    =   sequence.pad_sequences(x_tr,  maxlen=max_text_length, padding='post') \n",
        "x_val   =   sequence.pad_sequences(x_val, maxlen=max_text_length, padding='post')\n",
        "\n",
        "#Total number of different words in our X set\n",
        "x_vocab_size   =  len(x_tokenizer.word_index) +1\n",
        "\n",
        "#Repeat the same as above but in the Y set\n",
        "y_tokenizer = Tokenizer()\n",
        "y_tokenizer.fit_on_texts(df['CleanTitle'])\n",
        "y_tr = y_tokenizer.texts_to_sequences(df['CleanTitle'])\n",
        "y_val = y_tokenizer.texts_to_sequences(y_test)\n",
        "y_tr = sequence.pad_sequences(y_tr, maxlen=max_target_length, padding='post')\n",
        "y_val = sequence.pad_sequences(y_val, maxlen=max_target_length, padding='post')\n",
        "y_vocab_size   =  len(y_tokenizer.word_index) +1\n",
        "\n",
        "#Reshaping data to fit in the format that the RNN needs (3 Dimensions)\n",
        "xtr = x_tr.reshape(x_tr.shape[0],x_tr.shape[1],1)\n",
        "xval = x_val.reshape(x_val.shape[0],x_val.shape[1],1)\n",
        "ytr = y_tr.reshape(y_tr.shape[0],y_tr.shape[1],1)\n",
        "yval = y_val.reshape(y_val.shape[0],y_val.shape[1],1)"
      ],
      "execution_count": 0,
      "outputs": []
    },
    {
      "cell_type": "code",
      "metadata": {
        "id": "evF8_nQ7Q_nB",
        "colab_type": "code",
        "outputId": "c79dead7-9427-4e45-991c-3a0db414a002",
        "colab": {
          "base_uri": "https://localhost:8080/",
          "height": 51
        }
      },
      "source": [
        "latentdim = 500\n",
        "#Encoding input layer\n",
        "enc_inputs = Input(shape=(max_text_length,))\n",
        "\n",
        "#Encoding word embedding layer\n",
        "enc_emb = Embedding(x_vocab_size, latentdim, trainable=True)\n",
        "\n",
        "#Use the encoders embedding outputs as inputs for the encoding side LSTM\n",
        "temp = enc_emb(enc_inputs)\n",
        "enc_out, state_h, state_c = LSTM(latentdim,return_state=True,return_sequences=True)(temp)\n",
        "\n",
        "enc_states = [state_h, state_c]\n",
        "#enc_states are the states from the LSTM on enc side that we will use to decode and predict"
      ],
      "execution_count": 18,
      "outputs": [
        {
          "output_type": "stream",
          "text": [
            "WARNING:tensorflow:From /usr/local/lib/python3.6/dist-packages/keras/backend/tensorflow_backend.py:4432: The name tf.random_uniform is deprecated. Please use tf.random.uniform instead.\n",
            "\n"
          ],
          "name": "stdout"
        }
      ]
    },
    {
      "cell_type": "code",
      "metadata": {
        "id": "2j28aRrYQ_nC",
        "colab_type": "code",
        "colab": {}
      },
      "source": [
        "#Decoding input layer\n",
        "dec_inputs = Input(shape=(None,))\n",
        "#Decoding word embedding layer\n",
        "dec_emb = Embedding(y_vocab_size, latentdim, trainable=True)\n",
        "\n",
        "#Same as in encoding we need to maintain the states so we pass the embedding layer into an LSTM\n",
        "temp = dec_emb(dec_inputs)\n",
        "dec_lstm = LSTM(latentdim, return_sequences=True, return_state=True)\n",
        "\n",
        "dec_out, dec_state_h, dec_stat_c = dec_lstm(temp,initial_state=enc_states) #encoder states used here\n",
        "\n",
        "#Dense layer to turn our matrix into a usable output array\n",
        "dec_dense = Dense(y_vocab_size, activation='softmax')\n",
        "dec_out = dec_dense(dec_out)"
      ],
      "execution_count": 0,
      "outputs": []
    },
    {
      "cell_type": "code",
      "metadata": {
        "id": "7AqKBS8EQ_nE",
        "colab_type": "code",
        "outputId": "54552a18-37bd-4892-995a-ed7710ba656b",
        "colab": {
          "base_uri": "https://localhost:8080/",
          "height": 493
        }
      },
      "source": [
        "#Creating the model object with a printout to help visualize the connections\n",
        "model = Model([enc_inputs,dec_inputs], dec_out)\n",
        "model.compile(optimizer='rmsprop', loss='sparse_categorical_crossentropy')\n",
        "\n",
        "model.summary()"
      ],
      "execution_count": 22,
      "outputs": [
        {
          "output_type": "stream",
          "text": [
            "WARNING:tensorflow:From /usr/local/lib/python3.6/dist-packages/keras/optimizers.py:793: The name tf.train.Optimizer is deprecated. Please use tf.compat.v1.train.Optimizer instead.\n",
            "\n",
            "WARNING:tensorflow:From /usr/local/lib/python3.6/dist-packages/keras/backend/tensorflow_backend.py:3622: The name tf.log is deprecated. Please use tf.math.log instead.\n",
            "\n",
            "Model: \"model_1\"\n",
            "__________________________________________________________________________________________________\n",
            "Layer (type)                    Output Shape         Param #     Connected to                     \n",
            "==================================================================================================\n",
            "input_2 (InputLayer)            (None, 125)          0                                            \n",
            "__________________________________________________________________________________________________\n",
            "input_4 (InputLayer)            (None, None)         0                                            \n",
            "__________________________________________________________________________________________________\n",
            "embedding_1 (Embedding)         (None, 125, 500)     48361500    input_2[0][0]                    \n",
            "__________________________________________________________________________________________________\n",
            "embedding_3 (Embedding)         (None, None, 500)    18539000    input_4[0][0]                    \n",
            "__________________________________________________________________________________________________\n",
            "lstm_1 (LSTM)                   [(None, 125, 500), ( 2002000     embedding_1[0][0]                \n",
            "__________________________________________________________________________________________________\n",
            "lstm_3 (LSTM)                   [(None, None, 500),  2002000     embedding_3[0][0]                \n",
            "                                                                 lstm_1[0][1]                     \n",
            "                                                                 lstm_1[0][2]                     \n",
            "__________________________________________________________________________________________________\n",
            "dense_1 (Dense)                 (None, None, 37078)  18576078    lstm_3[0][0]                     \n",
            "==================================================================================================\n",
            "Total params: 89,480,578\n",
            "Trainable params: 89,480,578\n",
            "Non-trainable params: 0\n",
            "__________________________________________________________________________________________________\n"
          ],
          "name": "stdout"
        }
      ]
    },
    {
      "cell_type": "code",
      "metadata": {
        "id": "jNhcSQaFQ_nG",
        "colab_type": "code",
        "outputId": "847b396d-b8b8-430f-82bf-ca948133d3f8",
        "colab": {
          "base_uri": "https://localhost:8080/",
          "height": 1000
        }
      },
      "source": [
        "#Training the model, batch_size and epochs can be adjusted for your environment and were selected through trial and error.\n",
        "# epochs is the number of times the models is trained on the data\n",
        "# batch_size is the number of rows fed to the model at a time, higher batch_size requires more memory but will train faster\n",
        "modelout = model.fit([x_tr,y_tr[:,:-1]], y_tr.reshape(y_tr.shape[0],y_tr.shape[1], 1)[:,1:] ,epochs=50,batch_size=256, validation_data=([x_val,y_val[:,:-1]], y_val.reshape(y_val.shape[0],y_val.shape[1], 1)[:,1:]))\n"
      ],
      "execution_count": 25,
      "outputs": [
        {
          "output_type": "stream",
          "text": [
            "Train on 9606 samples, validate on 1922 samples\n",
            "Epoch 1/50\n",
            "9606/9606 [==============================] - 54s 6ms/step - loss: 6.0268 - val_loss: 5.8621\n",
            "Epoch 2/50\n",
            "9606/9606 [==============================] - 54s 6ms/step - loss: 5.9066 - val_loss: 5.7856\n",
            "Epoch 3/50\n",
            "9606/9606 [==============================] - 55s 6ms/step - loss: 5.8244 - val_loss: 5.7264\n",
            "Epoch 4/50\n",
            "9606/9606 [==============================] - 55s 6ms/step - loss: 5.7407 - val_loss: 5.5902\n",
            "Epoch 5/50\n",
            "9606/9606 [==============================] - 55s 6ms/step - loss: 5.6344 - val_loss: 5.4739\n",
            "Epoch 6/50\n",
            "9606/9606 [==============================] - 55s 6ms/step - loss: 5.5351 - val_loss: 5.3848\n",
            "Epoch 7/50\n",
            "9606/9606 [==============================] - 55s 6ms/step - loss: 5.4359 - val_loss: 5.2493\n",
            "Epoch 8/50\n",
            "9606/9606 [==============================] - 55s 6ms/step - loss: 5.3349 - val_loss: 5.1550\n",
            "Epoch 9/50\n",
            "9606/9606 [==============================] - 55s 6ms/step - loss: 5.2314 - val_loss: 5.0340\n",
            "Epoch 10/50\n",
            "9606/9606 [==============================] - 55s 6ms/step - loss: 5.1308 - val_loss: 4.9413\n",
            "Epoch 11/50\n",
            "9606/9606 [==============================] - 55s 6ms/step - loss: 5.0294 - val_loss: 4.8210\n",
            "Epoch 12/50\n",
            "9606/9606 [==============================] - 55s 6ms/step - loss: 4.9849 - val_loss: 4.8356\n",
            "Epoch 13/50\n",
            "9606/9606 [==============================] - 55s 6ms/step - loss: 4.9235 - val_loss: 4.6923\n",
            "Epoch 14/50\n",
            "9606/9606 [==============================] - 55s 6ms/step - loss: 4.7975 - val_loss: 4.5593\n",
            "Epoch 15/50\n",
            "9606/9606 [==============================] - 55s 6ms/step - loss: 4.6655 - val_loss: 4.4360\n",
            "Epoch 16/50\n",
            "9606/9606 [==============================] - 55s 6ms/step - loss: 4.5588 - val_loss: 4.3145\n",
            "Epoch 17/50\n",
            "9606/9606 [==============================] - 55s 6ms/step - loss: 4.4767 - val_loss: 4.2093\n",
            "Epoch 18/50\n",
            "9606/9606 [==============================] - 55s 6ms/step - loss: 4.3285 - val_loss: 4.1010\n",
            "Epoch 19/50\n",
            "9606/9606 [==============================] - 55s 6ms/step - loss: 4.2114 - val_loss: 3.9776\n",
            "Epoch 20/50\n",
            "9606/9606 [==============================] - 55s 6ms/step - loss: 4.1016 - val_loss: 3.8761\n",
            "Epoch 21/50\n",
            "9606/9606 [==============================] - 55s 6ms/step - loss: 3.9926 - val_loss: 3.7421\n",
            "Epoch 22/50\n",
            "9606/9606 [==============================] - 55s 6ms/step - loss: 3.8848 - val_loss: 3.6484\n",
            "Epoch 23/50\n",
            "9606/9606 [==============================] - 55s 6ms/step - loss: 3.7671 - val_loss: 3.5258\n",
            "Epoch 24/50\n",
            "9606/9606 [==============================] - 55s 6ms/step - loss: 3.6630 - val_loss: 3.4256\n",
            "Epoch 25/50\n",
            "9606/9606 [==============================] - 55s 6ms/step - loss: 3.5588 - val_loss: 3.3208\n",
            "Epoch 26/50\n",
            "9606/9606 [==============================] - 55s 6ms/step - loss: 3.4540 - val_loss: 3.2097\n",
            "Epoch 27/50\n",
            "9606/9606 [==============================] - 55s 6ms/step - loss: 3.3460 - val_loss: 3.1127\n",
            "Epoch 28/50\n",
            "9606/9606 [==============================] - 55s 6ms/step - loss: 3.2397 - val_loss: 3.0157\n",
            "Epoch 29/50\n",
            "9606/9606 [==============================] - 55s 6ms/step - loss: 3.1354 - val_loss: 2.9187\n",
            "Epoch 30/50\n",
            "9606/9606 [==============================] - 55s 6ms/step - loss: 3.0287 - val_loss: 2.8220\n",
            "Epoch 31/50\n",
            "9606/9606 [==============================] - 55s 6ms/step - loss: 2.9346 - val_loss: 2.7281\n",
            "Epoch 32/50\n",
            "9606/9606 [==============================] - 55s 6ms/step - loss: 2.8383 - val_loss: 2.6207\n",
            "Epoch 33/50\n",
            "9606/9606 [==============================] - 55s 6ms/step - loss: 2.7396 - val_loss: 2.5512\n",
            "Epoch 34/50\n",
            "9606/9606 [==============================] - 55s 6ms/step - loss: 2.6500 - val_loss: 2.4474\n",
            "Epoch 35/50\n",
            "9606/9606 [==============================] - 55s 6ms/step - loss: 2.5561 - val_loss: 2.3569\n",
            "Epoch 36/50\n",
            "9606/9606 [==============================] - 55s 6ms/step - loss: 2.4719 - val_loss: 2.2712\n",
            "Epoch 37/50\n",
            "9606/9606 [==============================] - 55s 6ms/step - loss: 2.3838 - val_loss: 2.1795\n",
            "Epoch 38/50\n",
            "9606/9606 [==============================] - 55s 6ms/step - loss: 2.2954 - val_loss: 2.1130\n",
            "Epoch 39/50\n",
            "9606/9606 [==============================] - 55s 6ms/step - loss: 2.2133 - val_loss: 2.0259\n",
            "Epoch 40/50\n",
            "9606/9606 [==============================] - 55s 6ms/step - loss: 2.1300 - val_loss: 1.9592\n",
            "Epoch 41/50\n",
            "9606/9606 [==============================] - 55s 6ms/step - loss: 2.0481 - val_loss: 1.8697\n",
            "Epoch 42/50\n",
            "9606/9606 [==============================] - 55s 6ms/step - loss: 1.9725 - val_loss: 1.8049\n",
            "Epoch 43/50\n",
            "9606/9606 [==============================] - 55s 6ms/step - loss: 1.8835 - val_loss: 1.7243\n",
            "Epoch 44/50\n",
            "9606/9606 [==============================] - 55s 6ms/step - loss: 1.8033 - val_loss: 1.6605\n",
            "Epoch 45/50\n",
            "9606/9606 [==============================] - 55s 6ms/step - loss: 1.7280 - val_loss: 1.5865\n",
            "Epoch 46/50\n",
            "9606/9606 [==============================] - 55s 6ms/step - loss: 1.6480 - val_loss: 1.5124\n",
            "Epoch 47/50\n",
            "9606/9606 [==============================] - 55s 6ms/step - loss: 1.5721 - val_loss: 1.4186\n",
            "Epoch 48/50\n",
            "9606/9606 [==============================] - 55s 6ms/step - loss: 1.4972 - val_loss: 1.3754\n",
            "Epoch 49/50\n",
            "9606/9606 [==============================] - 55s 6ms/step - loss: 1.4209 - val_loss: 1.2894\n",
            "Epoch 50/50\n",
            "9606/9606 [==============================] - 55s 6ms/step - loss: 1.3492 - val_loss: 1.2242\n"
          ],
          "name": "stdout"
        }
      ]
    },
    {
      "cell_type": "code",
      "metadata": {
        "id": "cRtmuIuyqTiR",
        "colab_type": "code",
        "outputId": "5d01b5e7-0e9c-4783-eaa1-9e8979e26fd7",
        "colab": {
          "base_uri": "https://localhost:8080/",
          "height": 265
        }
      },
      "source": [
        "#Visualization of models performance over # of epochs\n",
        "from matplotlib import pyplot \n",
        "pyplot.plot(modelout.history['loss'], label='train') \n",
        "pyplot.plot(modelout.history['val_loss'], label='test') \n",
        "pyplot.legend() \n",
        "pyplot.show()"
      ],
      "execution_count": 27,
      "outputs": [
        {
          "output_type": "display_data",
          "data": {
            "image/png": "[encoded data removed]",
            "text/plain": [
              "<Figure size 432x288 with 1 Axes>"
            ]
          },
          "metadata": {
            "tags": []
          }
        }
      ]
    },
    {
      "cell_type": "code",
      "metadata": {
        "id": "wA02dXYtS5I3",
        "colab_type": "code",
        "colab": {}
      },
      "source": [
        "#Save the model for use in our demo and to prevent us from having to train every time which can take a long time\n",
        "import os\n",
        "os.makedirs('./model', exist_ok=True)\n",
        "model.save('./model/model.h5')"
      ],
      "execution_count": 0,
      "outputs": []
    },
    {
      "cell_type": "code",
      "metadata": {
        "id": "nEgvkHOaQ_nI",
        "colab_type": "code",
        "colab": {}
      },
      "source": [
        ""
      ],
      "execution_count": 0,
      "outputs": []
    }
  ]
}